{
 "cells": [
  {
   "cell_type": "code",
   "execution_count": 6,
   "id": "7547930f",
   "metadata": {},
   "outputs": [],
   "source": [
    "from kafka import KafkaConsumer\n",
    "from time import sleep\n",
    "from json import dumps,loads\n",
    "import json\n",
    "from s3fs import S3FileSystem"
   ]
  },
  {
   "cell_type": "code",
   "execution_count": 7,
   "id": "8f90f462",
   "metadata": {},
   "outputs": [],
   "source": [
    "consumer = KafkaConsumer(\n",
    "    'kafka-proj',\n",
    "     bootstrap_servers=['54.186.103.94:9092'], #add your IP here\n",
    "    value_deserializer=lambda x: loads(x.decode('utf-8')))"
   ]
  },
  {
   "cell_type": "code",
   "execution_count": 8,
   "id": "67172b39",
   "metadata": {},
   "outputs": [],
   "source": [
    "#for c in consumer:\n",
    "     #print(c.value)"
   ]
  },
  {
   "cell_type": "code",
   "execution_count": 9,
   "id": "9eda5037",
   "metadata": {},
   "outputs": [],
   "source": [
    "s3 = S3FileSystem()  #object create "
   ]
  },
  {
   "cell_type": "code",
   "execution_count": null,
   "id": "8418b503",
   "metadata": {},
   "outputs": [],
   "source": [
    "for count, i in enumerate(consumer):\n",
    "    #print(count)\n",
    "     with s3.open(\"s3://kafka-stockmarket-inp-ah/stock_market_{}.json\".format(count), 'w') as file:\n",
    "            json.dump(i.value,file)\n",
    "        "
   ]
  },
  {
   "cell_type": "code",
   "execution_count": null,
   "id": "75dd432f",
   "metadata": {},
   "outputs": [],
   "source": []
  },
  {
   "cell_type": "code",
   "execution_count": null,
   "id": "b15003c1",
   "metadata": {},
   "outputs": [],
   "source": []
  },
  {
   "cell_type": "code",
   "execution_count": null,
   "id": "eea55f38",
   "metadata": {},
   "outputs": [],
   "source": []
  }
 ],
 "metadata": {
  "kernelspec": {
   "display_name": "Python 3 (ipykernel)",
   "language": "python",
   "name": "python3"
  },
  "language_info": {
   "codemirror_mode": {
    "name": "ipython",
    "version": 3
   },
   "file_extension": ".py",
   "mimetype": "text/x-python",
   "name": "python",
   "nbconvert_exporter": "python",
   "pygments_lexer": "ipython3",
   "version": "3.11.5"
  }
 },
 "nbformat": 4,
 "nbformat_minor": 5
}
